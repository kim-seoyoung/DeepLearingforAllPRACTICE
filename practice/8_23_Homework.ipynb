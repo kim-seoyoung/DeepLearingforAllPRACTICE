{
  "nbformat": 4,
  "nbformat_minor": 0,
  "metadata": {
    "colab": {
      "name": "8_23_Homework.ipynb",
      "version": "0.3.2",
      "provenance": [],
      "collapsed_sections": []
    },
    "kernelspec": {
      "name": "python3",
      "display_name": "Python 3"
    },
    "accelerator": "GPU"
  },
  "cells": [
    {
      "cell_type": "markdown",
      "metadata": {
        "id": "GG1ZMxFWMrde",
        "colab_type": "text"
      },
      "source": [
        "## MNIST"
      ]
    },
    {
      "cell_type": "code",
      "metadata": {
        "id": "dnAJODfG9ajj",
        "colab_type": "code",
        "colab": {}
      },
      "source": [
        "import warnings\n",
        "warnings.filterwarnings(action = 'ignore')\n",
        "from tensorflow.examples.tutorials.mnist import input_data\n",
        "import tensorflow as tf"
      ],
      "execution_count": 0,
      "outputs": []
    },
    {
      "cell_type": "code",
      "metadata": {
        "id": "no5CXHVD9iEg",
        "colab_type": "code",
        "outputId": "1dd8b8f8-a024-4116-f094-1b58925154d9",
        "colab": {
          "base_uri": "https://localhost:8080/",
          "height": 583
        }
      },
      "source": [
        "mnist = input_data.read_data_sets('MNIST_data', one_hot=True)"
      ],
      "execution_count": 0,
      "outputs": [
        {
          "output_type": "stream",
          "text": [
            "WARNING: Logging before flag parsing goes to stderr.\n",
            "W0825 04:10:55.362333 139777173350272 deprecation.py:323] From <ipython-input-2-71e12f4bac70>:1: read_data_sets (from tensorflow.contrib.learn.python.learn.datasets.mnist) is deprecated and will be removed in a future version.\n",
            "Instructions for updating:\n",
            "Please use alternatives such as official/mnist/dataset.py from tensorflow/models.\n",
            "W0825 04:10:55.364948 139777173350272 deprecation.py:323] From /usr/local/lib/python3.6/dist-packages/tensorflow/contrib/learn/python/learn/datasets/mnist.py:260: maybe_download (from tensorflow.contrib.learn.python.learn.datasets.base) is deprecated and will be removed in a future version.\n",
            "Instructions for updating:\n",
            "Please write your own downloading logic.\n",
            "W0825 04:10:55.369598 139777173350272 deprecation.py:323] From /usr/local/lib/python3.6/dist-packages/tensorflow/contrib/learn/python/learn/datasets/base.py:252: _internal_retry.<locals>.wrap.<locals>.wrapped_fn (from tensorflow.contrib.learn.python.learn.datasets.base) is deprecated and will be removed in a future version.\n",
            "Instructions for updating:\n",
            "Please use urllib or similar directly.\n",
            "W0825 04:10:55.469201 139777173350272 deprecation.py:323] From /usr/local/lib/python3.6/dist-packages/tensorflow/contrib/learn/python/learn/datasets/mnist.py:262: extract_images (from tensorflow.contrib.learn.python.learn.datasets.mnist) is deprecated and will be removed in a future version.\n",
            "Instructions for updating:\n",
            "Please use tf.data to implement this functionality.\n"
          ],
          "name": "stderr"
        },
        {
          "output_type": "stream",
          "text": [
            "Successfully downloaded train-images-idx3-ubyte.gz 9912422 bytes.\n",
            "Extracting MNIST_data/train-images-idx3-ubyte.gz\n"
          ],
          "name": "stdout"
        },
        {
          "output_type": "stream",
          "text": [
            "W0825 04:10:55.774033 139777173350272 deprecation.py:323] From /usr/local/lib/python3.6/dist-packages/tensorflow/contrib/learn/python/learn/datasets/mnist.py:267: extract_labels (from tensorflow.contrib.learn.python.learn.datasets.mnist) is deprecated and will be removed in a future version.\n",
            "Instructions for updating:\n",
            "Please use tf.data to implement this functionality.\n",
            "W0825 04:10:55.776736 139777173350272 deprecation.py:323] From /usr/local/lib/python3.6/dist-packages/tensorflow/contrib/learn/python/learn/datasets/mnist.py:110: dense_to_one_hot (from tensorflow.contrib.learn.python.learn.datasets.mnist) is deprecated and will be removed in a future version.\n",
            "Instructions for updating:\n",
            "Please use tf.one_hot on tensors.\n",
            "W0825 04:10:55.870932 139777173350272 deprecation.py:323] From /usr/local/lib/python3.6/dist-packages/tensorflow/contrib/learn/python/learn/datasets/mnist.py:290: DataSet.__init__ (from tensorflow.contrib.learn.python.learn.datasets.mnist) is deprecated and will be removed in a future version.\n",
            "Instructions for updating:\n",
            "Please use alternatives such as official/mnist/dataset.py from tensorflow/models.\n"
          ],
          "name": "stderr"
        },
        {
          "output_type": "stream",
          "text": [
            "Successfully downloaded train-labels-idx1-ubyte.gz 28881 bytes.\n",
            "Extracting MNIST_data/train-labels-idx1-ubyte.gz\n",
            "Successfully downloaded t10k-images-idx3-ubyte.gz 1648877 bytes.\n",
            "Extracting MNIST_data/t10k-images-idx3-ubyte.gz\n",
            "Successfully downloaded t10k-labels-idx1-ubyte.gz 4542 bytes.\n",
            "Extracting MNIST_data/t10k-labels-idx1-ubyte.gz\n"
          ],
          "name": "stdout"
        }
      ]
    },
    {
      "cell_type": "code",
      "metadata": {
        "id": "bnMakRRe-EVN",
        "colab_type": "code",
        "colab": {}
      },
      "source": [
        "# hypter parameter setting\n",
        "learning_rate = 1e-4\n",
        "training_epochs = 10\n",
        "display_step = 1\n",
        "batch_size = 32\n",
        "activation = tf.nn.relu"
      ],
      "execution_count": 0,
      "outputs": []
    },
    {
      "cell_type": "code",
      "metadata": {
        "id": "JaGTEvaU-G4K",
        "colab_type": "code",
        "outputId": "6b8c8d3c-3a98-41ce-ac91-01ef7f698e1e",
        "colab": {
          "base_uri": "https://localhost:8080/",
          "height": 92
        }
      },
      "source": [
        "def weight_variable(shape):\n",
        "    return tf.Variable(tf.truncated_normal(shape, stddev=0.1))\n",
        "\n",
        "def bias_variable(shape):\n",
        "    return tf.Variable(tf.constant(0.1, shape=shape))\n",
        "\n",
        "def conv2d(x, W):\n",
        "    return tf.nn.conv2d(x, W, strides=[1, 1, 1, 1], padding='SAME')\n",
        "\n",
        "def max_pool_2x2(x):\n",
        "    return tf.nn.max_pool(x, ksize=[1, 2, 2, 1], strides=[1, 2, 2, 1], padding='SAME')\n",
        "\n",
        "tf_X = tf.placeholder(\"float\", shape=[None, 784])\n",
        "tf_X_reshape = tf.reshape(tf_X, [-1,28,28,1])\n",
        "tf_Y = tf.placeholder(\"float\", shape=[None, 10])\n",
        "\n",
        "W_conv1 = weight_variable([5, 5, 1, 32])\n",
        "b_conv1 = bias_variable([32])\n",
        "\n",
        "h_conv1 = tf.nn.relu(conv2d(tf_X_reshape, W_conv1) + b_conv1)\n",
        "h_pool1 = max_pool_2x2(h_conv1)\n",
        "\n",
        "W_conv2 = weight_variable([5, 5, 32, 64])\n",
        "b_conv2 = bias_variable([64])\n",
        "\n",
        "h_conv2 = tf.nn.relu(conv2d(h_pool1, W_conv2) + b_conv2)\n",
        "h_pool2 = max_pool_2x2(h_conv2)\n",
        "\n",
        "W_fc1 = weight_variable([7 * 7 * 64, 1024])\n",
        "b_fc1 = bias_variable([1024])\n",
        "\n",
        "h_pool2_flat = tf.reshape(h_pool2, [-1, 7*7*64])\n",
        "h_fc1 = tf.nn.relu(tf.matmul(h_pool2_flat, W_fc1) + b_fc1)\n",
        "\n",
        "keep_prob = tf.placeholder(\"float\")\n",
        "h_fc1_drop = tf.nn.dropout(h_fc1, keep_prob)\n",
        "\n",
        "W_fc2 = weight_variable([1024, 10])\n",
        "b_fc2 = bias_variable([10])\n",
        "\n",
        "pred=tf.nn.softmax(tf.matmul(h_fc1_drop, W_fc2) + b_fc2)\n",
        "\n",
        "loss = -tf.reduce_sum(tf_Y*tf.log(pred))\n",
        "optimizer = tf.train.AdamOptimizer(1e-4).minimize(loss)\n",
        "correct_prediction = tf.equal(tf.argmax(pred,1), tf.argmax(tf_Y,1))\n",
        "accuracy = tf.reduce_mean(tf.cast(correct_prediction, \"float\"))"
      ],
      "execution_count": 0,
      "outputs": [
        {
          "output_type": "stream",
          "text": [
            "W0825 05:11:51.177445 139777173350272 deprecation.py:506] From <ipython-input-4-ac002f1e36ef>:36: calling dropout (from tensorflow.python.ops.nn_ops) with keep_prob is deprecated and will be removed in a future version.\n",
            "Instructions for updating:\n",
            "Please use `rate` instead of `keep_prob`. Rate should be set to `rate = 1 - keep_prob`.\n"
          ],
          "name": "stderr"
        }
      ]
    },
    {
      "cell_type": "code",
      "metadata": {
        "id": "u6ak6s5EMAzN",
        "colab_type": "code",
        "outputId": "9abf9028-d0ef-4900-b1fc-842cc694deeb",
        "colab": {
          "base_uri": "https://localhost:8080/",
          "height": 35
        }
      },
      "source": [
        "sess = tf.Session()\n",
        "\n",
        "sess.run(tf.global_variables_initializer())\n",
        "\n",
        "for i in range(1000):\n",
        "    batch = mnist.train.next_batch(50)\n",
        "    sess.run(optimizer,feed_dict={tf_X: batch[0], tf_Y: batch[1], keep_prob: 0.5})\n",
        "\n",
        "print(\"test accuracy %g\"% sess.run(accuracy, feed_dict={\n",
        "       tf_X: mnist.test.images, tf_Y: mnist.test.labels, keep_prob: 1.0}))"
      ],
      "execution_count": 0,
      "outputs": [
        {
          "output_type": "stream",
          "text": [
            "test accuracy 0.9622\n"
          ],
          "name": "stdout"
        }
      ]
    },
    {
      "cell_type": "markdown",
      "metadata": {
        "id": "smCwmsC2MoPr",
        "colab_type": "text"
      },
      "source": [
        "## CIFAR10"
      ]
    },
    {
      "cell_type": "code",
      "metadata": {
        "id": "6KwBlN-FMCO9",
        "colab_type": "code",
        "colab": {}
      },
      "source": [
        "import tensorflow as tf\n",
        "import numpy as np\n",
        "from tensorflow.keras.datasets.cifar10 import load_data"
      ],
      "execution_count": 0,
      "outputs": []
    },
    {
      "cell_type": "code",
      "metadata": {
        "id": "4hq5h2r0My1-",
        "colab_type": "code",
        "colab": {}
      },
      "source": [
        "(x_train, y_train), (x_test, y_test) = load_data()\n",
        "\n",
        "# one-hot encoding\n",
        "y_train_one_hot = tf.squeeze(tf.one_hot(y_train, 10),axis=1)\n",
        "y_test_one_hot = tf.squeeze(tf.one_hot(y_test, 10),axis=1)"
      ],
      "execution_count": 0,
      "outputs": []
    },
    {
      "cell_type": "code",
      "metadata": {
        "id": "ihpDIGzIM0N9",
        "colab_type": "code",
        "colab": {}
      },
      "source": [
        "# hypter parameter setting\n",
        "learning_rate = 1e-3\n",
        "training_epochs = 100\n",
        "display_step = 10\n",
        "batch_size = 128\n",
        "activation = tf.nn.tanh"
      ],
      "execution_count": 0,
      "outputs": []
    },
    {
      "cell_type": "code",
      "metadata": {
        "id": "yhX9sX_4M4Nh",
        "colab_type": "code",
        "colab": {}
      },
      "source": [
        "def CNN_model(x):\n",
        "    x_image = x\n",
        "    \n",
        "    #[window size(,),channel, # of features]\n",
        "    W_conv1 = tf.Variable(tf.truncated_normal(shape=[5, 5, 3, 64], stddev=1e-4)) \n",
        "    b_conv1 = tf.Variable(tf.constant(0.1, shape=[64]))\n",
        "    h_conv1 = tf.nn.conv2d(x_image, W_conv1, strides=[1, 1, 1, 1], padding='SAME') + b_conv1\n",
        "\n",
        "    h_pool1 = tf.nn.relu(tf.nn.max_pool(h_conv1, ksize=[1, 3, 3, 1], strides=[1, 2, 2, 1], padding='SAME'))\n",
        "    h_norm1 = tf.contrib.layers.batch_norm(h_pool1)\n",
        "\n",
        "    W_conv2 = tf.Variable(tf.truncated_normal(shape=[5, 5, 64, 64], stddev=1e-2))\n",
        "    b_conv2 = tf.Variable(tf.constant(0.1, shape=[64]))\n",
        "    h_conv2 = tf.nn.relu(tf.nn.conv2d(h_norm1, W_conv2, strides=[1, 1, 1, 1], padding='SAME') + b_conv2)\n",
        "\n",
        "    h_pool2 = tf.nn.max_pool(h_conv2, ksize=[1, 3, 3, 1], strides=[1, 2, 2, 1], padding='SAME')\n",
        "    h_norm2 = tf.contrib.layers.batch_norm(h_pool2)\n",
        "\n",
        "    \n",
        "    W_conv3 = tf.Variable(tf.truncated_normal(shape=[3, 3, 64, 128], stddev=1e-2))\n",
        "    b_conv3 = tf.Variable(tf.constant(0.1, shape=[128]))\n",
        "    h_conv3 = tf.nn.relu(tf.nn.conv2d(h_norm2, W_conv3, strides=[1, 1, 1, 1], padding='SAME') + b_conv3)\n",
        "    h_pool3 = tf.nn.max_pool(h_conv3, ksize=[1, 3, 3, 1], strides=[1, 2, 2, 1], padding='SAME')\n",
        "    h_norm3 = tf.contrib.layers.batch_norm(h_pool3)\n",
        "    \n",
        "#     W_conv4 = tf.Variable(tf.truncated_normal(shape=[3, 3, 128, 128], stddev=1e-2))\n",
        "#     b_conv4 = tf.Variable(tf.constant(0.1, shape=[128])) \n",
        "#     h_conv4 = tf.nn.relu(tf.nn.conv2d(h_pool3, W_conv4, strides=[1, 1, 1, 1], padding='SAME') + b_conv4)\n",
        "\n",
        "#     W_conv5 = tf.Variable(tf.truncated_normal(shape=[3, 3, 128, 128], stddev=1e-2))\n",
        "#     b_conv5 = tf.Variable(tf.constant(0.1, shape=[128]))\n",
        "#     h_conv5 = tf.nn.relu(tf.nn.conv2d(h_conv4, W_conv5, strides=[1, 1, 1, 1], padding='SAME') + b_conv5)\n",
        "\n",
        "\n",
        "    W_fc1 = tf.Variable(tf.truncated_normal(shape=[4 * 4 * 128, 384], stddev=5e-2))\n",
        "    b_fc1 = tf.Variable(tf.constant(0.1, shape=[384]))\n",
        "\n",
        "    h_conv5_flat = tf.reshape(h_norm3, [-1, 4*4*128])\n",
        "    h_fc1 = tf.nn.tanh(tf.matmul(h_conv5_flat, W_fc1) + b_fc1)\n",
        "    h_fc1_norm = tf.contrib.layers.batch_norm(h_fc1)\n",
        "    \n",
        "\n",
        "    h_fc1_drop = tf.nn.dropout(h_fc1_norm, keep_prob)\n",
        "    \n",
        "    W_fc2 = tf.Variable(tf.truncated_normal(shape=[384, 1024], stddev=5e-2))\n",
        "    b_fc2 = tf.Variable(tf.constant(0.1, shape=[1024]))\n",
        "    h_fc2 = tf.nn.relu(tf.matmul(h_fc1_drop, W_fc2) + b_fc2)\n",
        "    \n",
        "    \n",
        "    h_fc2_drop = tf.nn.dropout(h_fc2, keep_prob)\n",
        "\n",
        "    W_fc3 = tf.Variable(tf.truncated_normal(shape=[1024, 10], stddev=5e-2))\n",
        "    b_fc3 = tf.Variable(tf.constant(0.1, shape=[10]))\n",
        "    logits = tf.matmul(h_fc2_drop,W_fc3) + b_fc3\n",
        "    y_pred = tf.nn.softmax(logits)\n",
        "\n",
        "    return y_pred, logits\n",
        "\n",
        "tf_X = tf.placeholder(tf.float32, shape=[None, 32, 32, 3])\n",
        "tf_Y = tf.placeholder(tf.float32, shape=[None, 10])\n",
        "keep_prob = tf.placeholder(tf.float32)\n",
        "\n",
        "pred, logit = CNN_model(tf_X)\n",
        "\n",
        "loss = tf.reduce_mean(tf.nn.softmax_cross_entropy_with_logits(labels=tf_Y, logits=logit))\n",
        "optimizer = tf.train.AdamOptimizer(learning_rate).minimize(loss)\n",
        "\n",
        "correct_prediction = tf.equal(tf.argmax(pred, 1), tf.argmax(tf_Y, 1))\n",
        "accuracy = tf.reduce_mean(tf.cast(correct_prediction, tf.float32))"
      ],
      "execution_count": 0,
      "outputs": []
    },
    {
      "cell_type": "code",
      "metadata": {
        "id": "5a0qzt3wNPGF",
        "colab_type": "code",
        "outputId": "4064f062-a154-4c9d-e402-53f30bdf1245",
        "colab": {
          "base_uri": "https://localhost:8080/",
          "height": 217
        }
      },
      "source": [
        "def next_batch(num, data, labels):\n",
        "    idx = np.arange(0 , len(data))\n",
        "    np.random.shuffle(idx)\n",
        "    idx = idx[:num]\n",
        "    data_shuffle = [data[ i] for i in idx]\n",
        "    labels_shuffle = [labels[ i] for i in idx]\n",
        "\n",
        "    return np.asarray(data_shuffle), np.asarray(labels_shuffle)\n",
        "\n",
        "with tf.Session() as sess:\n",
        "    sess.run(tf.global_variables_initializer())\n",
        "  \n",
        "    for i in range(10000):\n",
        "        batch = next_batch(516, x_train, y_train_one_hot.eval())\n",
        "\n",
        "        if i % 1000 == 0:\n",
        "            train_accuracy = accuracy.eval(feed_dict={tf_X: batch[0], tf_Y: batch[1], keep_prob: 0.6})\n",
        "            loss_print = loss.eval(feed_dict={tf_X: batch[0], tf_Y: batch[1], keep_prob: 0.6})\n",
        "\n",
        "            print(\"iteration: %d, accuracy: %f, loss: %f\" % (i, train_accuracy, loss_print))\n",
        "        sess.run(optimizer, feed_dict={tf_X: batch[0], tf_Y: batch[1], keep_prob: 0.6})\n",
        "\n",
        "    test_accuracy = 0.0  \n",
        "    for i in range(10):\n",
        "        test_batch = next_batch(1000, x_test, y_test_one_hot.eval())\n",
        "        test_accuracy = test_accuracy + accuracy.eval(feed_dict={tf_X: test_batch[0], tf_Y: test_batch[1], keep_prob: 1.0})\n",
        "    test_accuracy = test_accuracy / 10;\n",
        "    print(\"Test accuracy: %f\" % test_accuracy)"
      ],
      "execution_count": 54,
      "outputs": [
        {
          "output_type": "stream",
          "text": [
            "iteration: 0, accuracy: 0.081395, loss: 3.131934\n",
            "iteration: 1000, accuracy: 0.825581, loss: 0.471749\n",
            "iteration: 2000, accuracy: 0.914729, loss: 0.232910\n",
            "iteration: 3000, accuracy: 0.945736, loss: 0.159654\n",
            "iteration: 4000, accuracy: 0.967054, loss: 0.099239\n",
            "iteration: 5000, accuracy: 0.961240, loss: 0.108511\n",
            "iteration: 6000, accuracy: 0.982558, loss: 0.074417\n",
            "iteration: 7000, accuracy: 0.961240, loss: 0.115581\n",
            "iteration: 8000, accuracy: 0.986434, loss: 0.037019\n",
            "iteration: 9000, accuracy: 0.978682, loss: 0.050396\n",
            "Test accuracy: 0.800200\n"
          ],
          "name": "stdout"
        }
      ]
    },
    {
      "cell_type": "code",
      "metadata": {
        "id": "gElGGidYNPQ7",
        "colab_type": "code",
        "colab": {}
      },
      "source": [
        ""
      ],
      "execution_count": 0,
      "outputs": []
    }
  ]
}