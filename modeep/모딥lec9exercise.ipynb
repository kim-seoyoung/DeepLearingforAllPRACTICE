{
  "nbformat": 4,
  "nbformat_minor": 0,
  "metadata": {
    "colab": {
      "name": "모딥lec9exercise.ipynb",
      "version": "0.3.2",
      "provenance": [],
      "collapsed_sections": []
    },
    "kernelspec": {
      "name": "python3",
      "display_name": "Python 3"
    }
  },
  "cells": [
    {
      "cell_type": "code",
      "metadata": {
        "id": "NGrSKs7_LyQD",
        "colab_type": "code",
        "colab": {}
      },
      "source": [
        "import pandas as pd\n",
        "import numpy as np\n",
        "import tensorflow as tf\n",
        "import matplotlib.pyplot as plt\n",
        "import random"
      ],
      "execution_count": 0,
      "outputs": []
    },
    {
      "cell_type": "code",
      "metadata": {
        "id": "Y6UKvxkdL0IM",
        "colab_type": "code",
        "colab": {}
      },
      "source": [
        "import warnings\n",
        "warnings.filterwarnings(action = 'ignore')"
      ],
      "execution_count": 0,
      "outputs": []
    },
    {
      "cell_type": "code",
      "metadata": {
        "id": "gXFDSJ0qL1sX",
        "colab_type": "code",
        "colab": {}
      },
      "source": [
        "from tensorflow.examples.tutorials.mnist import input_data"
      ],
      "execution_count": 0,
      "outputs": []
    },
    {
      "cell_type": "code",
      "metadata": {
        "id": "8M2pSAagL4h3",
        "colab_type": "code",
        "outputId": "b68cbf41-571e-4c0d-baab-c15c1720a67b",
        "colab": {
          "base_uri": "https://localhost:8080/",
          "height": 87
        }
      },
      "source": [
        "mnist = input_data.read_data_sets('MNIST_data/', one_hot = True)"
      ],
      "execution_count": 0,
      "outputs": [
        {
          "output_type": "stream",
          "text": [
            "Extracting MNIST_data/train-images-idx3-ubyte.gz\n",
            "Extracting MNIST_data/train-labels-idx1-ubyte.gz\n",
            "Extracting MNIST_data/t10k-images-idx3-ubyte.gz\n",
            "Extracting MNIST_data/t10k-labels-idx1-ubyte.gz\n"
          ],
          "name": "stdout"
        }
      ]
    },
    {
      "cell_type": "code",
      "metadata": {
        "id": "2yQnxM2zMJ5n",
        "colab_type": "code",
        "colab": {}
      },
      "source": [
        "nb_classes = 10  "
      ],
      "execution_count": 0,
      "outputs": []
    },
    {
      "cell_type": "code",
      "metadata": {
        "id": "dm_lSWdOL6Jo",
        "colab_type": "code",
        "colab": {}
      },
      "source": [
        "X = tf.placeholder(tf.float32, [None, 784])\n",
        "Y = tf.placeholder(tf.float32,[None, nb_classes])\n",
        "\n",
        "W1 = tf.Variable(tf.random_normal([784, nb_classes*10]))\n",
        "b1 = tf.Variable(tf.random_normal([nb_classes*10]))\n",
        "layer1 = tf.nn.softmax(tf.matmul(X, W1) + b1)\n",
        "\n",
        "W2 = tf.Variable(tf.random_normal([nb_classes*10,nb_classes]))\n",
        "b2 = tf.Variable(tf.random_normal([nb_classes]))\n",
        "hypothesis = tf.nn.softmax(tf.matmul(layer1, W2) + b2)"
      ],
      "execution_count": 0,
      "outputs": []
    },
    {
      "cell_type": "code",
      "metadata": {
        "id": "ldAhyuR7MHuW",
        "colab_type": "code",
        "colab": {}
      },
      "source": [
        "cost = tf.reduce_mean(-tf.reduce_sum(Y * tf.log(hypothesis), axis=1))\n",
        "optimizer = tf.train.GradientDescentOptimizer(learning_rate=0.1).minimize(cost)"
      ],
      "execution_count": 0,
      "outputs": []
    },
    {
      "cell_type": "code",
      "metadata": {
        "id": "D0IVxMilNL1G",
        "colab_type": "code",
        "colab": {}
      },
      "source": [
        "is_correct = tf.equal(tf.argmax(hypothesis,1), tf.argmax(Y,1))\n",
        "accuracy = tf.reduce_mean(tf.cast(is_correct, tf.float32))"
      ],
      "execution_count": 0,
      "outputs": []
    },
    {
      "cell_type": "code",
      "metadata": {
        "id": "nT9OLUZzNNc3",
        "colab_type": "code",
        "colab": {}
      },
      "source": [
        "training_epochs = 15\n",
        "batch_size = 100"
      ],
      "execution_count": 0,
      "outputs": []
    },
    {
      "cell_type": "code",
      "metadata": {
        "id": "yAP02lXBNQTG",
        "colab_type": "code",
        "outputId": "c873f59d-324b-4f33-b766-4d9846e6b694",
        "colab": {
          "base_uri": "https://localhost:8080/",
          "height": 571
        }
      },
      "source": [
        "with tf.Session() as sess:\n",
        "  sess.run(tf.global_variables_initializer())\n",
        "  for epoch in range(training_epochs):\n",
        "    avgcost = 0\n",
        "    totalbatch = int(mnist.train.num_examples / batch_size)\n",
        "    \n",
        "    for i in range(totalbatch):\n",
        "      batch_xs, batch_ys = mnist.train.next_batch(batch_size)\n",
        "      c, _ = sess.run([cost, optimizer], feed_dict = {X: batch_xs, Y: batch_ys})\n",
        "      avgcost += c /totalbatch\n",
        "      \n",
        "    print('Epoch:','%04d' %(epoch + 1),' cost = ','{:.9f}'.format(avgcost))\n",
        "  r = random.randint(0, mnist.test.num_examples -1)\n",
        "  print('Label:', sess.run(tf.argmax(mnist.test.labels[r:r+1], 1)))\n",
        "  print('Prediction:', sess.run(tf.argmax(hypothesis,1), feed_dict={X: mnist.test.images[r:r+1]}))\n",
        "  plt.imshow(mnist.test.images[r:r+1].reshape(28,28), cmap = 'Greys', interpolation = 'nearest')\n",
        "  plt.show()"
      ],
      "execution_count": 0,
      "outputs": [
        {
          "output_type": "stream",
          "text": [
            "Epoch: 0001  cost =  2.180201341\n",
            "Epoch: 0002  cost =  1.733948288\n",
            "Epoch: 0003  cost =  1.489552428\n",
            "Epoch: 0004  cost =  1.341589554\n",
            "Epoch: 0005  cost =  1.247048121\n",
            "Epoch: 0006  cost =  1.167751578\n",
            "Epoch: 0007  cost =  1.090737498\n",
            "Epoch: 0008  cost =  1.023980663\n",
            "Epoch: 0009  cost =  0.969478393\n",
            "Epoch: 0010  cost =  0.926294666\n",
            "Epoch: 0011  cost =  0.891404053\n",
            "Epoch: 0012  cost =  0.861963504\n",
            "Epoch: 0013  cost =  0.836281840\n",
            "Epoch: 0014  cost =  0.815738306\n",
            "Epoch: 0015  cost =  0.797820362\n",
            "Label: [4]\n",
            "Prediction: [4]\n"
          ],
          "name": "stdout"
        },
        {
          "output_type": "display_data",
          "data": {
            "image/png": "[encoded data removed]",
            "text/plain": [
              "<Figure size 432x288 with 1 Axes>"
            ]
          },
          "metadata": {
            "tags": []
          }
        }
      ]
    },
    {
      "cell_type": "code",
      "metadata": {
        "id": "TKRyPySfSdeS",
        "colab_type": "code",
        "colab": {}
      },
      "source": [
        "#답을 알고 싶다.."
      ],
      "execution_count": 0,
      "outputs": []
    }
  ]
}